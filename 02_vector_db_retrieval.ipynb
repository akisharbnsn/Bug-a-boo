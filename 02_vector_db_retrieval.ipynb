{
 "cells": [
  {
   "cell_type": "markdown",
   "id": "58e35ef4",
   "metadata": {},
   "source": [
    "# 02_vector_db_retrieval.ipynb"
   ]
  },
  {
   "cell_type": "markdown",
   "id": "d6133a0f",
   "metadata": {},
   "source": [
    "**Goal:** Pure Vector DB (FAISS) + KNN retrieval. Ingest PDFs and md/txt notes."
   ]
  },
  {
   "cell_type": "code",
   "execution_count": null,
   "id": "033b54e1",
   "metadata": {},
   "outputs": [],
   "source": [
    "# %pip install pdfplumber sentence-transformers faiss-cpu numpy pandas\n",
    "from pathlib import Path\n",
    "import pdfplumber, re, unicodedata, json, numpy as np, faiss, pandas as pd\n",
    "from sentence_transformers import SentenceTransformer\n",
    "\n",
    "DATA = Path(\"data\"); KNOW = Path(\"knowledge\"); ART = Path(\"artifacts\"); ART.mkdir(exist_ok=True)\n",
    "\n",
    "def normalize_text(t: str) -> str:\n",
    "    t = unicodedata.normalize(\"NFKC\", t)\n",
    "    t = t.replace(\"\\xa0\", \" \")\n",
    "    t = re.sub(r\"-\\n\", \"\", t)\n",
    "    t = re.sub(r\"[ \\t]+\", \" \", t)\n",
    "    return t\n",
    "\n",
    "def extract_pdf_text(p: Path) -> str:\n",
    "    with pdfplumber.open(str(p)) as pdf:\n",
    "        pages = [(pg.extract_text() or \"\") for pg in pdf.pages]\n",
    "    return \"\\n\\n\".join(pages)\n",
    "\n",
    "def chunk_words(text: str, size=900, overlap=150):\n",
    "    toks = text.split()\n",
    "    step = max(1, size-overlap)\n",
    "    for i in range(0, len(toks), step):\n",
    "        yield \" \".join(toks[i:i+size])\n",
    "\n",
    "docs = []\n",
    "for p in sorted(DATA.glob(\"*.pdf\")):\n",
    "    raw = extract_pdf_text(p)\n",
    "    norm = normalize_text(raw)\n",
    "    for i, c in enumerate(chunk_words(norm)):\n",
    "        docs.append({\"id\": f\"{p.name}#c{i}\", \"text\": c, \"meta\": {\"source\": p.name, \"chunk\": i}})\n",
    "\n",
    "for p in sorted(list(KNOW.glob(\"*.md\")) + list(KNOW.glob(\"*.txt\"))):\n",
    "    raw = normalize_text(p.read_text())\n",
    "    for i, c in enumerate(chunk_words(raw)):\n",
    "        docs.append({\"id\": f\"{p.name}#c{i}\", \"text\": c, \"meta\": {\"source\": p.name, \"chunk\": i}})\n",
    "\n",
    "print(\"Total chunks:\", len(docs))"
   ]
  },
  {
   "cell_type": "code",
   "execution_count": null,
   "id": "7e7a4f84",
   "metadata": {},
   "outputs": [],
   "source": [
    "model_name = \"all-MiniLM-L6-v2\"\n",
    "embedder = SentenceTransformer(model_name)\n",
    "X = embedder.encode([d[\"text\"] for d in docs], normalize_embeddings=True)\n",
    "index = faiss.IndexFlatIP(X.shape[1]); index.add(np.array(X, dtype=np.float32))\n",
    "\n",
    "# Persist\n",
    "np.save(\"artifacts/embeddings.npy\", X)\n",
    "faiss.write_index(index, \"artifacts/embeddings.faiss\")\n",
    "with open(\"artifacts/docs.jsonl\", \"w\") as f:\n",
    "    for d in docs: f.write(json.dumps(d)+\"\\n\")\n",
    "with open(\"artifacts/embed_model.json\", \"w\") as f:\n",
    "    json.dump({\"model\": model_name, \"normalized\": True}, f)\n",
    "\n",
    "print(\"Indexed:\", len(docs), \"dim:\", X.shape[1])"
   ]
  },
  {
   "cell_type": "code",
   "execution_count": null,
   "id": "4351eb03",
   "metadata": {},
   "outputs": [],
   "source": [
    "# KNN retrieval demo\n",
    "def retrieve(query: str, k=6):\n",
    "    q = embedder.encode([query], normalize_embeddings=True).astype(\"float32\")\n",
    "    D, I = index.search(q, k)\n",
    "    return [{\"score\": float(D[0][j]), \"doc\": docs[i]} for j, i in enumerate(I[0])]\n",
    "\n",
    "for q in [\"KeyError target\", \"baseline models\", \"logistic regression\"]:\n",
    "    print(\"\\n=== QUERY:\", q, \"===\")\n",
    "    for hit in retrieve(q, k=3):\n",
    "        print(f\"score={hit['score']:.3f}  source={hit['doc']['meta']['source']}  chunk={hit['doc']['meta']['chunk']}\")"
   ]
  }
 ],
 "metadata": {
  "kernelspec": {
   "display_name": "ds",
   "language": "python",
   "name": "python3"
  },
  "language_info": {
   "name": "python",
   "version": "3.12.9"
  }
 },
 "nbformat": 4,
 "nbformat_minor": 5
}
